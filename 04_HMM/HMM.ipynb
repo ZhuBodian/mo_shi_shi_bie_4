{
 "cells": [
  {
   "cell_type": "markdown",
   "metadata": {
    "collapsed": true,
    "pycharm": {
     "name": "#%% md\n"
    }
   },
   "source": [
    "# 1 HMM"
   ]
  },
  {
   "cell_type": "markdown",
   "source": [
    "## 1.1 评估与推断问题"
   ],
   "metadata": {
    "collapsed": false,
    "pycharm": {
     "name": "#%% md\n"
    }
   }
  },
  {
   "cell_type": "code",
   "source": [
    "import HMM\n",
    "import numpy as np\n",
    "np.random.seed(29)\n",
    "A, E, Pi, O, Q, V = HMM.model_example()\n",
    "HMM.run_evaluation_decoding(A, E, Pi, O, Q, V)"
   ],
   "metadata": {
    "collapsed": false,
    "pycharm": {
     "name": "#%%\n"
    }
   },
   "execution_count": 1,
   "outputs": [
    {
     "name": "stdout",
     "output_type": "stream",
     "text": [
      "**********************************************模型的评估问题***********************************************\n",
      "***********************前向算法***********************\n",
      "(0.130218, array([[0.1     , 0.16    , 0.28    ],\n",
      "       [0.077   , 0.1104  , 0.0606  ],\n",
      "       [0.04187 , 0.035512, 0.052836]]))\n",
      "***********************后向算法***********************\n",
      "(0.130218, array([[0.2451, 0.2622, 0.2277],\n",
      "       [0.54  , 0.49  , 0.57  ],\n",
      "       [1.    , 1.    , 1.    ]]))\n",
      "**********************************************隐状态推断问题***********************************************\n",
      "(0.014699999999999998, array([3., 3., 3.]))\n"
     ]
    }
   ]
  },
  {
   "cell_type": "markdown",
   "source": [
    "## 1.2 模型学习问题"
   ],
   "metadata": {
    "collapsed": false,
    "pycharm": {
     "name": "#%% md\n"
    }
   }
  },
  {
   "cell_type": "code",
   "execution_count": 2,
   "outputs": [
    {
     "name": "stdout",
     "output_type": "stream",
     "text": [
      "**********************************************模型的学习问题***********************************************\n",
      "*********************知道隐状态序列**********************\n",
      "状态转移矩阵A估计差值: \n",
      " [[ 0.    0.    0.  ]\n",
      " [-0.07  0.    0.07]\n",
      " [ 0.02 -0.02  0.  ]]\n",
      "发射概率矩阵E估计差值: \n",
      " [[ 0.03 -0.03]\n",
      " [ 0.    0.  ]\n",
      " [ 0.04 -0.04]]\n",
      "*********************不知道隐状态序列*********************\n",
      "状态转移矩阵A估计差值: \n",
      " [[-0.    0.   -0.  ]\n",
      " [ 0.05 -0.   -0.05]\n",
      " [ 0.04 -0.04 -0.  ]]\n",
      "发射概率矩阵E估计差值: \n",
      " [[ 0.09 -0.09]\n",
      " [ 0.   -0.  ]\n",
      " [-0.07  0.07]]\n",
      "发射概率矩阵Pi估计差值: \n",
      " [-0.  0. -0.]\n"
     ]
    }
   ],
   "source": [
    "import HMM\n",
    "import numpy as np\n",
    "np.random.seed(29)\n",
    "n = 100\n",
    "iter_times = 200\n",
    "A, E, Pi, Q, V = HMM.model_example2()\n",
    "HMM.run_learning(A, E, Pi, Q, V, n, iter_times)"
   ],
   "metadata": {
    "collapsed": false,
    "pycharm": {
     "name": "#%%\n"
    }
   }
  }
 ],
 "metadata": {
  "kernelspec": {
   "display_name": "Python 3",
   "language": "python",
   "name": "python3"
  },
  "language_info": {
   "codemirror_mode": {
    "name": "ipython",
    "version": 2
   },
   "file_extension": ".py",
   "mimetype": "text/x-python",
   "name": "python",
   "nbconvert_exporter": "python",
   "pygments_lexer": "ipython2",
   "version": "2.7.6"
  }
 },
 "nbformat": 4,
 "nbformat_minor": 0
}